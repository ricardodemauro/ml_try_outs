{
 "cells": [
  {
   "cell_type": "code",
   "execution_count": 41,
   "metadata": {},
   "outputs": [
    {
     "name": "stdout",
     "output_type": "stream",
     "text": [
      "4.0.0\n"
     ]
    }
   ],
   "source": [
    "import cv2\n",
    "from os import listdir\n",
    "from os.path import join, isfile\n",
    "import numpy as np\n",
    "import sys\n",
    "from matplotlib import pyplot as plt\n",
    "\n",
    "print(cv2.__version__)\n",
    "\n",
    "base_dir = 'C:/Users/ricardo/source/repos/jupyter_samples/opencv'"
   ]
  },
  {
   "cell_type": "code",
   "execution_count": 3,
   "metadata": {},
   "outputs": [],
   "source": [
    "video_capture = cv2.VideoCapture(0)\n",
    "while True:\n",
    "    ret, frame = video_capture.read()\n",
    "    \n",
    "    gray = cv2.cvtColor(frame, cv2.COLOR_BGR2GRAY)\n",
    "    \n",
    "    cv2.imshow('video', frame)\n",
    "    cv2.imshow('video-gray', gray)\n",
    "    \n",
    "    if(cv2.waitKey(1) & 0xFF == ord('q')):\n",
    "        break\n",
    "    \n",
    "video_capture.release()\n",
    "cv2.destroyAllWindows()"
   ]
  },
  {
   "cell_type": "code",
   "execution_count": 4,
   "metadata": {},
   "outputs": [],
   "source": [
    "cascade = os.path.join(base_dir, 'haarcascades/haarcascade_frontalface_default.xml')\n",
    "\n",
    "faceCascade = cv2.CascadeClassifier(cascade)"
   ]
  },
  {
   "cell_type": "code",
   "execution_count": 22,
   "metadata": {},
   "outputs": [],
   "source": [
    "video_capture = cv2.VideoCapture(0)\n",
    "\n",
    "while True:\n",
    "    ret, frame = video_capture.read()\n",
    "    \n",
    "    gray = cv2.cvtColor(frame, cv2.COLOR_BGR2GRAY)\n",
    "    \n",
    "    faces = faceCascade.detectMultiScale(gray)\n",
    "    \n",
    "    for (x, y, w, h) in faces:\n",
    "        cv2.rectangle(frame, (x, y), (x + w, y + h), (0, 255, 0), 2)\n",
    "       \n",
    "    cv2.imshow('video', frame)\n",
    "    \n",
    "    if(cv2.waitKey(1) & 0xFF == ord('q')):\n",
    "        break\n",
    "    \n",
    "video_capture.release()\n",
    "cv2.destroyAllWindows()"
   ]
  },
  {
   "cell_type": "code",
   "execution_count": null,
   "metadata": {},
   "outputs": [],
   "source": [
    "video_capture.release()\n",
    "cv2.destroyAllWindows()"
   ]
  },
  {
   "cell_type": "code",
   "execution_count": 73,
   "metadata": {},
   "outputs": [],
   "source": [
    "labels = [\"closed-eyes\", \"happy\", \"laughing\", \"sad\", \"super-fat\"]\n",
    "\n",
    "cap_type = \"super-fat\"\n",
    "video_capture = cv2.VideoCapture(0)\n",
    "\n",
    "frame_rate = 30\n",
    "frame_count = 0\n",
    "\n",
    "while True:\n",
    "    ret, frame = video_capture.read()\n",
    "    \n",
    "    gray = cv2.cvtColor(frame, cv2.COLOR_BGR2GRAY)\n",
    "    \n",
    "    faces = faceCascade.detectMultiScale(gray)\n",
    "    X = 0\n",
    "    X2 = 10\n",
    "    Y = 0\n",
    "    Y2 = 10\n",
    "    \n",
    "    for (x, y, w, h) in faces:\n",
    "        file_name = \"faces\" + str(frame_count) + \".jpg\"\n",
    "        full_path = join(base_dir, \"samples\", cap_type, file_name)\n",
    "        #print(full_path)\n",
    "        \n",
    "        cropped = frame[y:y+h, x:x+w]\n",
    "        \n",
    "        cv2.imwrite(full_path, cropped)\n",
    "        \n",
    "        cv2.rectangle(frame, (x, y), (x + w, y + h), (0, 255, 0), 2)\n",
    "        \n",
    "        X = x\n",
    "        Y = y\n",
    "        X2 = x + w\n",
    "        Y2 = y + h\n",
    "        break\n",
    "       \n",
    "    cropped = frame[Y:Y2, X:X2]\n",
    "    cv2.imshow(\"cropped\", cropped)\n",
    "        \n",
    "    cv2.imshow('video', frame)\n",
    "    \n",
    "    frame_count += 1\n",
    "    \n",
    "    if(cv2.waitKey(1) & 0xFF == ord('q')):\n",
    "        break\n",
    "    \n",
    "video_capture.release()\n",
    "cv2.destroyAllWindows()"
   ]
  },
  {
   "cell_type": "markdown",
   "metadata": {},
   "source": [
    "let's try make predictions on this"
   ]
  },
  {
   "cell_type": "code",
   "execution_count": 20,
   "metadata": {},
   "outputs": [
    {
     "name": "stdout",
     "output_type": "stream",
     "text": [
      "1.12.0\n"
     ]
    }
   ],
   "source": [
    "# TensorFlow and tf.keras\n",
    "import tensorflow as tf\n",
    "from tensorflow import keras\n",
    "\n",
    "# Helper libraries\n",
    "import numpy as np\n",
    "import matplotlib.pyplot as plt\n",
    "\n",
    "print(tf.__version__)"
   ]
  },
  {
   "cell_type": "code",
   "execution_count": 64,
   "metadata": {},
   "outputs": [
    {
     "data": {
      "text/plain": [
       "0"
      ]
     },
     "execution_count": 64,
     "metadata": {},
     "output_type": "execute_result"
    }
   ],
   "source": [
    "labels = [\"closed-eyes\", \"happy\", \"laughing\", \"sad\", \"super-fat\"]\n",
    "labels.index(\"closed-eyes\")"
   ]
  },
  {
   "cell_type": "code",
   "execution_count": 55,
   "metadata": {},
   "outputs": [],
   "source": [
    "def resize(img):\n",
    "    return img"
   ]
  },
  {
   "cell_type": "code",
   "execution_count": 94,
   "metadata": {},
   "outputs": [],
   "source": [
    "def getData(search_dir, labels):\n",
    "    print(listdir(search_dir))\n",
    "\n",
    "    X = []\n",
    "    y = []\n",
    "\n",
    "    width = 75\n",
    "    height = 75\n",
    "\n",
    "    for dirLabels in listdir(search_dir):\n",
    "        full_path_label = join(search_dir, dirLabels)\n",
    "        print(full_path_label)\n",
    "        \n",
    "        for label_dir in listdir(full_path_label):\n",
    "            full_path_label_item = join(full_path_label, label_dir)\n",
    "\n",
    "            if(isfile(full_path_label_item)):\n",
    "                try:\n",
    "                    img = cv2.imread(full_path_label_item, cv2.IMREAD_UNCHANGED)\n",
    "                    resized = cv2.resize(img, (width, height), interpolation = cv2.INTER_AREA)\n",
    "                except:\n",
    "                    pass\n",
    "                \n",
    "                X.append(resized)\n",
    "                y.append(labels.index(str(dirLabels)))\n",
    "                #print('resized dimensions: ', resized.shape)\n",
    "            \n",
    "                #cv2.imshow('resized', resized)\n",
    "                #cv2.waitKey(0)\n",
    "                #cv2.destroyAllWindows()\n",
    "                #break\n",
    "        \n",
    "    \n",
    "    return (data, labels)"
   ]
  },
  {
   "cell_type": "code",
   "execution_count": 95,
   "metadata": {},
   "outputs": [
    {
     "data": {
      "text/plain": [
       "['closed-eyes', 'happy', 'laughing', 'sad', 'super-fat']"
      ]
     },
     "execution_count": 95,
     "metadata": {},
     "output_type": "execute_result"
    }
   ],
   "source": [
    "listdir(join(base_dir,\"samples\"))"
   ]
  },
  {
   "cell_type": "code",
   "execution_count": 96,
   "metadata": {},
   "outputs": [
    {
     "name": "stdout",
     "output_type": "stream",
     "text": [
      "['closed-eyes', 'happy', 'laughing', 'sad', 'super-fat']\n",
      "C:/Users/ricardo/source/repos/jupyter_samples/opencv\\samples\\closed-eyes\n",
      "C:/Users/ricardo/source/repos/jupyter_samples/opencv\\samples\\happy\n",
      "C:/Users/ricardo/source/repos/jupyter_samples/opencv\\samples\\laughing\n",
      "C:/Users/ricardo/source/repos/jupyter_samples/opencv\\samples\\sad\n",
      "C:/Users/ricardo/source/repos/jupyter_samples/opencv\\samples\\super-fat\n",
      "['closed-eyes', 'happy', 'laughing', 'sad', 'super-fat']\n"
     ]
    }
   ],
   "source": [
    "samples_dir = join(base_dir,\"samples\")\n",
    "data, labels = getData(samples_dir, labels)\n",
    "print(labels)"
   ]
  },
  {
   "cell_type": "code",
   "execution_count": null,
   "metadata": {},
   "outputs": [],
   "source": []
  },
  {
   "cell_type": "code",
   "execution_count": null,
   "metadata": {},
   "outputs": [],
   "source": []
  }
 ],
 "metadata": {
  "kernelspec": {
   "display_name": "Python 3",
   "language": "python",
   "name": "python3"
  },
  "language_info": {
   "codemirror_mode": {
    "name": "ipython",
    "version": 3
   },
   "file_extension": ".py",
   "mimetype": "text/x-python",
   "name": "python",
   "nbconvert_exporter": "python",
   "pygments_lexer": "ipython3",
   "version": "3.6.8"
  }
 },
 "nbformat": 4,
 "nbformat_minor": 2
}
