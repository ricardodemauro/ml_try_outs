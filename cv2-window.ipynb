{
 "cells": [
  {
   "cell_type": "code",
   "execution_count": 1,
   "metadata": {},
   "outputs": [],
   "source": [
    "import cv2\n",
    "import numpy as np\n",
    "import math\n",
    "\n",
    "drawing = False"
   ]
  },
  {
   "cell_type": "code",
   "execution_count": 2,
   "metadata": {},
   "outputs": [],
   "source": [
    "def draw_circle(event, x, y, flags, param):\n",
    "    global x1, y1, drawing, radius, num, img, img2\n",
    "    if event == cv2.EVENT_LBUTTONDOWN:\n",
    "        drawing = True\n",
    "        x1, y1 = x, y\n",
    "        radius = int(math.hypot(x - x1, y - y1))\n",
    "        cv2.circle(img, (x1,y1), radius, (255, 0, 0), 1)\n",
    "\n",
    "    elif event == cv2.EVENT_MOUSEMOVE:\n",
    "        if drawing == True:\n",
    "            a, b = x, y\n",
    "            if a != x & b != y:\n",
    "                img = img2.copy()\n",
    "                radius = int(math.hypot(a - x1, b - y1))\n",
    "                cv2.circle(img, (x1,y1), radius, (255, 0, 0), 1)\n",
    "\n",
    "    elif event == cv2.EVENT_LBUTTONUP:\n",
    "        drawing = False\n",
    "        num += 1\n",
    "        radius = int(math.hypot(x - x1, y - y1))\n",
    "        cv2.circle(img, (x1,y1), radius, (255, 0, 255), 1)\n",
    "        font = cv2.FONT_HERSHEY_SIMPLEX\n",
    "        cv2.putText(img, '_'.join(['label', str(num)]), (x + 20, y + 20), font, 1, (200, 255, 155), 1, cv2.LINE_AA)\n",
    "        img2 = img.copy()"
   ]
  },
  {
   "cell_type": "code",
   "execution_count": 3,
   "metadata": {},
   "outputs": [],
   "source": [
    "num = 0\n",
    "windowName = 'Drawing'\n",
    "\n",
    "img = np.zeros((500, 500, 3), np.uint8)\n",
    "img2 = img.copy()\n",
    "cv2.namedWindow(windowName)\n",
    "cv2.setMouseCallback(windowName, draw_circle)\n",
    "while (True):\n",
    "    cv2.imshow(windowName, img)\n",
    "    if cv2.waitKey(20) == 27: #esc key\n",
    "        break\n",
    "\n",
    "cv2.destroyAllWindows()"
   ]
  },
  {
   "cell_type": "code",
   "execution_count": null,
   "metadata": {},
   "outputs": [],
   "source": []
  }
 ],
 "metadata": {
  "kernelspec": {
   "display_name": "Python 3",
   "language": "python",
   "name": "python3"
  },
  "language_info": {
   "codemirror_mode": {
    "name": "ipython",
    "version": 3
   },
   "file_extension": ".py",
   "mimetype": "text/x-python",
   "name": "python",
   "nbconvert_exporter": "python",
   "pygments_lexer": "ipython3",
   "version": "3.6.8"
  }
 },
 "nbformat": 4,
 "nbformat_minor": 2
}
