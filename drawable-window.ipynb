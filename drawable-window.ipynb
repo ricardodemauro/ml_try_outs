{
 "cells": [
  {
   "cell_type": "code",
   "execution_count": 1,
   "metadata": {},
   "outputs": [],
   "source": [
    "import tkinter as tk"
   ]
  },
  {
   "cell_type": "code",
   "execution_count": 1,
   "metadata": {},
   "outputs": [
    {
     "name": "stdout",
     "output_type": "stream",
     "text": [
      "mouse down\n",
      "mouse down\n",
      "mouse down\n",
      "mouse down\n",
      "mouse down\n",
      "mouse down\n",
      "quit\n"
     ]
    }
   ],
   "source": [
    "import tkinter as tk\n",
    "from PIL import Image, ImageDraw\n",
    "\n",
    "class DrawableArea():\n",
    "    \n",
    "    def onMouseDown(self, event):\n",
    "        if self.trace:\n",
    "            print('mouse down')\n",
    "            \n",
    "        if self.drawing:\n",
    "            self.drawing = False\n",
    "        else:\n",
    "            self.drawing = True\n",
    "    \n",
    "    def start(self):\n",
    "        self.startPillow()\n",
    "        \n",
    "        self.canvas = tk.Canvas(root, width=self.width, height=self.height)\n",
    "        self.canvas.pack()\n",
    "        self.old_coords = None\n",
    "        self.drawing = False\n",
    "        self.root.bind('<Motion>', self.onDraw)\n",
    "        self.root.bind('<Button-1>', self.onMouseDown)\n",
    "        self.root.bind('<KeyPress>', self.onKeyDown)\n",
    "    \n",
    "    def startPillow(self):\n",
    "        self.img = Image.new(\"RGB\", (self.width, self.height), self.bg)\n",
    "        self.draw = ImageDraw.Draw(self.img)\n",
    "\n",
    "    def onDraw(self, event):\n",
    "        x, y = event.x, event.y\n",
    "        \n",
    "        if self.old_coords and self.drawing:\n",
    "            x1, y1 = self.old_coords\n",
    "            self.canvas.create_line(x, y, x1, y1,width=self.lineWidth)\n",
    "            self.drawOnPillow(event.x, event.y, x1, y1)\n",
    "            \n",
    "        self.old_coords = x, y\n",
    "        \n",
    "    def drawOnPillow(self, x, y, x1, y1):\n",
    "        self.draw.line([x, y, x1, y1], fill=self.pencil, width=self.lineWidth)\n",
    "        \n",
    "    def savePillow(self, name='pillow.png'):\n",
    "        self.img.save(name)\n",
    "        \n",
    "    def onKeyDown(self, event):\n",
    "        if event.char == 's':\n",
    "            self.savePillow()\n",
    "        elif event.char == 'q':\n",
    "            print('quit')\n",
    "            self.root.destroy()\n",
    "        \n",
    "    def __init__(self, root, width, height, lineWidth=5, bg=(255,255,255), pencil=(0,0,0)):\n",
    "        self.trace = True\n",
    "        self.width = width\n",
    "        self.height = height\n",
    "        self.bg = bg\n",
    "        self.pencil = pencil\n",
    "        self.img = None\n",
    "        self.draw = None\n",
    "        self.root = root\n",
    "        self.lineWidth=lineWidth\n",
    "\n",
    "        \n",
    "root = tk.Tk()\n",
    "draw = DrawableArea(root, 200, 200, bg=(0,0,0), pencil=(255,255,255))\n",
    "draw.start()\n",
    "root.mainloop()"
   ]
  },
  {
   "cell_type": "code",
   "execution_count": null,
   "metadata": {},
   "outputs": [],
   "source": []
  }
 ],
 "metadata": {
  "kernelspec": {
   "display_name": "Python 3",
   "language": "python",
   "name": "python3"
  },
  "language_info": {
   "codemirror_mode": {
    "name": "ipython",
    "version": 3
   },
   "file_extension": ".py",
   "mimetype": "text/x-python",
   "name": "python",
   "nbconvert_exporter": "python",
   "pygments_lexer": "ipython3",
   "version": "3.6.8"
  }
 },
 "nbformat": 4,
 "nbformat_minor": 2
}
