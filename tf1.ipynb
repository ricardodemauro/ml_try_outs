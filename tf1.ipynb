{
 "cells": [
  {
   "cell_type": "code",
   "execution_count": 1,
   "metadata": {},
   "outputs": [
    {
     "name": "stdout",
     "output_type": "stream",
     "text": [
      "Downloading data from https://storage.googleapis.com/tensorflow/tf-keras-datasets/mnist.npz\n",
      "11493376/11490434 [==============================] - 45s 4us/step\n",
      "Epoch 1/5\n",
      "60000/60000 [==============================] - 28s 472us/step - loss: 0.2001 - acc: 0.9416\n",
      "Epoch 2/5\n",
      "60000/60000 [==============================] - 27s 447us/step - loss: 0.0793 - acc: 0.97611s\n",
      "Epoch 3/5\n",
      "60000/60000 [==============================] - 28s 459us/step - loss: 0.0526 - acc: 0.98370s - loss: 0.0527 - acc: \n",
      "Epoch 4/5\n",
      "60000/60000 [==============================] - 30s 502us/step - loss: 0.0367 - acc: 0.98830s - loss: 0.036\n",
      "Epoch 5/5\n",
      "60000/60000 [==============================] - 26s 440us/step - loss: 0.0275 - acc: 0.9908\n",
      "10000/10000 [==============================] - 1s 86us/step\n"
     ]
    },
    {
     "data": {
      "text/plain": [
       "[0.06538242491072742, 0.9802]"
      ]
     },
     "execution_count": 1,
     "metadata": {},
     "output_type": "execute_result"
    }
   ],
   "source": [
    "import tensorflow as tf\n",
    "mnist = tf.keras.datasets.mnist\n",
    "\n",
    "(x_train, y_train),(x_test, y_test) = mnist.load_data()\n",
    "x_train, x_test = x_train / 255.0, x_test / 255.0\n",
    "\n",
    "model = tf.keras.models.Sequential([\n",
    "  tf.keras.layers.Flatten(),\n",
    "  tf.keras.layers.Dense(512, activation=tf.nn.relu),\n",
    "  tf.keras.layers.Dropout(0.2),\n",
    "  tf.keras.layers.Dense(10, activation=tf.nn.softmax)\n",
    "])\n",
    "model.compile(optimizer='adam',\n",
    "              loss='sparse_categorical_crossentropy',\n",
    "              metrics=['accuracy'])\n",
    "\n",
    "model.fit(x_train, y_train, epochs=5)\n",
    "model.evaluate(x_test, y_test)"
   ]
  },
  {
   "cell_type": "code",
   "execution_count": null,
   "metadata": {},
   "outputs": [],
   "source": []
  }
 ],
 "metadata": {
  "kernelspec": {
   "display_name": "Python 3",
   "language": "python",
   "name": "python3"
  },
  "language_info": {
   "codemirror_mode": {
    "name": "ipython",
    "version": 3
   },
   "file_extension": ".py",
   "mimetype": "text/x-python",
   "name": "python",
   "nbconvert_exporter": "python",
   "pygments_lexer": "ipython3",
   "version": "3.6.8"
  }
 },
 "nbformat": 4,
 "nbformat_minor": 2
}
